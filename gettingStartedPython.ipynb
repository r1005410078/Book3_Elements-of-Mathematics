{
 "cells": [
  {
   "cell_type": "markdown",
   "metadata": {},
   "source": [
    "# Python基础"
   ]
  },
  {
   "cell_type": "code",
   "execution_count": 49,
   "metadata": {},
   "outputs": [
    {
     "name": "stdout",
     "output_type": "stream",
     "text": [
      "0\n",
      "2\n",
      "4\n",
      "6\n",
      "8\n",
      "0 1\n",
      "1 2\n",
      "2 3\n",
      "3 4\n",
      "4 5\n",
      "5 6\n",
      "6 7\n",
      "0 1\n",
      "1 2\n",
      "2 3\n",
      "3 4\n",
      "4 5\n",
      "5 6\n",
      "6 7\n"
     ]
    },
    {
     "data": {
      "text/plain": [
       "[('1', '2', '3'), ('4', '5', '6')]"
      ]
     },
     "execution_count": 49,
     "metadata": {},
     "output_type": "execute_result"
    }
   ],
   "source": [
    "# 列表推导式与条件赋值\n",
    "\n",
    "def my_func(x):\n",
    "  return 2 * x\n",
    "\n",
    "for i in range(5):\n",
    "  print(my_func(i))\n",
    "  \n",
    "# 进行写法上的简化\n",
    "\n",
    "[my_func(i) for i in range(5)]\n",
    "\n",
    "# 多层嵌套\n",
    "\n",
    "[[my_func(i + j) for i in range(5)] for j in range(5)]\n",
    "\n",
    "#  if 选择的条件赋值\n",
    "\n",
    "a =2\n",
    "\n",
    "value = 'cat' if a > 1 else 'dog'\n",
    "\n",
    "value\n",
    "\n",
    "# 截断列表中超过5的元素，即超过5的用5代替，小于5的保留原来的值\n",
    "L = [1, 2, 3, 4, 5, 6, 7]\n",
    "\n",
    "[value if value < 5 else 5 for value in L]\n",
    "\n",
    "\n",
    "# 匿名函数与map方法\n",
    "\n",
    "[(lambda x, y: x + y)(i, L[i + 1 if i + 1 < len(L) else i]) for i in range(len(L))]\n",
    "\n",
    "\n",
    "# map 函数\n",
    "\n",
    "list(map(lambda x: x + 1, [1, 2, 3, 4, 5]))\n",
    "\n",
    "# zip对象与enumerate方法\n",
    "\n",
    "L1, L2, L3 = list('123'), list('456'), list('789')\n",
    "\n",
    "\n",
    "[a + b + c for a, b, c in zip(map(int, L1), map(int, L2), map(int, L3))]\n",
    "\n",
    "\n",
    "tuple(zip(L1, L2, L3))\n",
    "\n",
    "\n",
    "L = [1, 2, 3, 4, 5, 6, 7]\n",
    "\n",
    "for i, value in enumerate(L):\n",
    "    print(i, value)\n",
    "    \n",
    "for index, value in zip(range(len(L)), L):\n",
    "  print(index, value)\n",
    "  \n",
    "dict(zip(L1, L2))\n",
    "\n",
    "#解压操作\n",
    "\n",
    "z = zip(L1, L2)\n",
    "\n",
    "list(zip(*z))\n",
    "\n"
   ]
  },
  {
   "cell_type": "markdown",
   "metadata": {},
   "source": [
    "## Numpy基础\n",
    "\n",
    "### 传入元组表示各维度大小\n",
    "\n",
    "### 3*3的单位矩阵\n",
    "\n",
    "### 偏移主对角线1个单位的伪单位矩阵\n",
    "\n",
    "### 元组传入大小，10表示填充数值\n",
    "\n",
    "### 每行填入相同的列表\n",
    "\n",
    "### 随机矩阵\n",
    "\n",
    "### 均匀分布\n",
    "\n",
    "### 标准正态分布\n",
    "\n",
    "### 一元正态分布\n",
    "\n",
    "### 生成随机整数的最小值最大值（不包含）和维度大小\n",
    "\n",
    "### 给定的列表中，以一定概率和方式抽取结果\n",
    "\n",
    "### 打散原列表\n",
    "\n",
    "\n"
   ]
  },
  {
   "cell_type": "code",
   "execution_count": 153,
   "metadata": {},
   "outputs": [
    {
     "data": {
      "text/plain": [
       "array([1.73530865, 9.36300195, 5.70202978])"
      ]
     },
     "execution_count": 153,
     "metadata": {},
     "output_type": "execute_result"
    }
   ],
   "source": [
    "import numpy as np\n",
    "\n",
    "np.random.seed(0)\n",
    "np.random.rand(2)\n",
    "\n",
    "np.random.uniform(1, 10, 3)\n",
    "\n",
    "np.random.randn(3)\n",
    "\n",
    "np.random.normal(3, 2.5, 3)\n"
   ]
  },
  {
   "cell_type": "markdown",
   "metadata": {},
   "source": [
    "## np数组的变形与合并\n",
    "\n",
    "### 转置： T\n",
    "### 合并操作： r_, c_\n",
    "### 维度变换： reshape, 按照行读取和填充, 按照列读取和填充\n",
    "### n*1 大小的数组转为1维数组\n",
    "### np数组的切片与索引\n",
    "### 对应的维度上使用布尔索引\n",
    "### where  指定满足条件与不满足条件位置对应的填充值\n",
    "### any 指当序列至少 存在一个 True 或非零元素时返回 True ，否则返回 False\n",
    "### all 指当序列元素 全为 True 或非零元素时返回 True ，否则返回 False\n",
    "### cumprod, cumsum, diff \n",
    "### 统计函数 max, min, mean, median, std, var, sum, quantile 进行某一个维度下的统计特征计算\n",
    "### 标量和数组的操作\n",
    "### 二维数组之间的操作\n"
   ]
  },
  {
   "cell_type": "code",
   "execution_count": 388,
   "metadata": {},
   "outputs": [
    {
     "data": {
      "text/plain": [
       "array([1, 0, 1, 1, 0, 0, 0, 1], dtype=int32)"
      ]
     },
     "execution_count": 388,
     "metadata": {},
     "output_type": "execute_result"
    }
   ],
   "source": [
    "x = [1, 2, 7, 5, 6, 7, 8]\n",
    "\n",
    "a = np.nonzero(np.r_[1,np.diff(x)!=1,1])\n",
    "\n",
    "np.r_[1,np.diff(x)!=1,1]\n",
    "\n",
    "\n"
   ]
  },
  {
   "cell_type": "code",
   "execution_count": 396,
   "metadata": {},
   "outputs": [
    {
     "data": {
      "text/plain": [
       "[[[0.6978592832451251, 0.16845150903334025, 0.0446270540702078],\n",
       "  [0.09054559546816984, 0.06277766950799274, 0.09489401705194553],\n",
       "  [0.01927233334676638, 0.2112513409115166, 0.02196084068638079],\n",
       "  [0.6875206752807017, 0.20202234046583928, 0.07671219365889065]],\n",
       " [[0.1835856721983336, 0.2616814216661793, 0.12090974201714576],\n",
       "  [0.023819807814727482, 0.09752212906854806, 0.2570998995961272],\n",
       "  [0.005069968054080739, 0.32816892846992035, 0.05949932473007569],\n",
       "  [0.1808658971114168, 0.31383211444527037, 0.20783920736228434]]]"
      ]
     },
     "execution_count": 396,
     "metadata": {},
     "output_type": "execute_result"
    }
   ],
   "source": [
    "M1 = np.random.rand(2,3)\n",
    "\n",
    "M2 = np.random.rand(3,4)\n",
    "\n",
    "[[[M1[i][k] * M2[k][j] for k in range(M1.shape[1])] for j in range(M2.shape[1])] for i in range(M1.shape[0])]\n"
   ]
  },
  {
   "cell_type": "markdown",
   "metadata": {},
   "source": [
    "### 文件的读取和写入\n",
    "### Series\n",
    "### DataFrame\n",
    "### 汇总函数 head, tail\n",
    "### 特征统计函数 sum, mean, median, var, std, max\n",
    "### 唯一值函数 unique 和 nunique \n",
    "### 替换函数 replace \n",
    "### 排序函数 ort_values 和 sort_index\n",
    "### rolling 对象的默认窗口方向都是向前的，某些情况下用户需要向后的窗口，例如对1,2,3设定向后窗口为2的 sum 操作，结果为3,5,NaN，此时应该如何实现向后的滑窗操作？\n",
    "### cummax, cumsum, cumprod 函数是典型的类扩张窗口函数，请使用 expanding 对象依次实现它们。"
   ]
  },
  {
   "cell_type": "code",
   "execution_count": 401,
   "metadata": {},
   "outputs": [
    {
     "data": {
      "text/html": [
       "<div>\n",
       "<style scoped>\n",
       "    .dataframe tbody tr th:only-of-type {\n",
       "        vertical-align: middle;\n",
       "    }\n",
       "\n",
       "    .dataframe tbody tr th {\n",
       "        vertical-align: top;\n",
       "    }\n",
       "\n",
       "    .dataframe thead th {\n",
       "        text-align: right;\n",
       "    }\n",
       "</style>\n",
       "<table border=\"1\" class=\"dataframe\">\n",
       "  <thead>\n",
       "    <tr style=\"text-align: right;\">\n",
       "      <th></th>\n",
       "      <th>School</th>\n",
       "      <th>Grade</th>\n",
       "      <th>Name</th>\n",
       "      <th>Gender</th>\n",
       "      <th>Height</th>\n",
       "      <th>Weight</th>\n",
       "      <th>Transfer</th>\n",
       "      <th>Test_Number</th>\n",
       "      <th>Test_Date</th>\n",
       "      <th>Time_Record</th>\n",
       "    </tr>\n",
       "  </thead>\n",
       "  <tbody>\n",
       "    <tr>\n",
       "      <th>0</th>\n",
       "      <td>A</td>\n",
       "      <td>Freshman</td>\n",
       "      <td>Gaopeng Yang</td>\n",
       "      <td>Female</td>\n",
       "      <td>158.9</td>\n",
       "      <td>46.0</td>\n",
       "      <td>N</td>\n",
       "      <td>1</td>\n",
       "      <td>2019/10/5</td>\n",
       "      <td>0:04:34</td>\n",
       "    </tr>\n",
       "    <tr>\n",
       "      <th>1</th>\n",
       "      <td>B</td>\n",
       "      <td>Freshman</td>\n",
       "      <td>Changqiang You</td>\n",
       "      <td>Male</td>\n",
       "      <td>166.5</td>\n",
       "      <td>70.0</td>\n",
       "      <td>N</td>\n",
       "      <td>1</td>\n",
       "      <td>2019/9/4</td>\n",
       "      <td>0:04:20</td>\n",
       "    </tr>\n",
       "    <tr>\n",
       "      <th>2</th>\n",
       "      <td>A</td>\n",
       "      <td>Senior</td>\n",
       "      <td>Mei Sun</td>\n",
       "      <td>Male</td>\n",
       "      <td>188.9</td>\n",
       "      <td>89.0</td>\n",
       "      <td>N</td>\n",
       "      <td>2</td>\n",
       "      <td>2019/9/12</td>\n",
       "      <td>0:05:22</td>\n",
       "    </tr>\n",
       "    <tr>\n",
       "      <th>3</th>\n",
       "      <td>C</td>\n",
       "      <td>Sophomore</td>\n",
       "      <td>Xiaojuan Sun</td>\n",
       "      <td>Female</td>\n",
       "      <td>NaN</td>\n",
       "      <td>41.0</td>\n",
       "      <td>N</td>\n",
       "      <td>2</td>\n",
       "      <td>2020/1/3</td>\n",
       "      <td>0:04:08</td>\n",
       "    </tr>\n",
       "    <tr>\n",
       "      <th>4</th>\n",
       "      <td>C</td>\n",
       "      <td>Sophomore</td>\n",
       "      <td>Gaojuan You</td>\n",
       "      <td>Male</td>\n",
       "      <td>174.0</td>\n",
       "      <td>74.0</td>\n",
       "      <td>N</td>\n",
       "      <td>2</td>\n",
       "      <td>2019/11/6</td>\n",
       "      <td>0:05:22</td>\n",
       "    </tr>\n",
       "    <tr>\n",
       "      <th>...</th>\n",
       "      <td>...</td>\n",
       "      <td>...</td>\n",
       "      <td>...</td>\n",
       "      <td>...</td>\n",
       "      <td>...</td>\n",
       "      <td>...</td>\n",
       "      <td>...</td>\n",
       "      <td>...</td>\n",
       "      <td>...</td>\n",
       "      <td>...</td>\n",
       "    </tr>\n",
       "    <tr>\n",
       "      <th>195</th>\n",
       "      <td>C</td>\n",
       "      <td>Junior</td>\n",
       "      <td>Xiaojuan Sun</td>\n",
       "      <td>Female</td>\n",
       "      <td>153.9</td>\n",
       "      <td>46.0</td>\n",
       "      <td>N</td>\n",
       "      <td>2</td>\n",
       "      <td>2019/10/17</td>\n",
       "      <td>0:04:31</td>\n",
       "    </tr>\n",
       "    <tr>\n",
       "      <th>196</th>\n",
       "      <td>D</td>\n",
       "      <td>Senior</td>\n",
       "      <td>Li Zhao</td>\n",
       "      <td>Female</td>\n",
       "      <td>160.9</td>\n",
       "      <td>50.0</td>\n",
       "      <td>N</td>\n",
       "      <td>3</td>\n",
       "      <td>2019/9/22</td>\n",
       "      <td>0:04:03</td>\n",
       "    </tr>\n",
       "    <tr>\n",
       "      <th>197</th>\n",
       "      <td>A</td>\n",
       "      <td>Senior</td>\n",
       "      <td>Chengqiang Chu</td>\n",
       "      <td>Female</td>\n",
       "      <td>153.9</td>\n",
       "      <td>45.0</td>\n",
       "      <td>N</td>\n",
       "      <td>1</td>\n",
       "      <td>2020/1/5</td>\n",
       "      <td>0:04:48</td>\n",
       "    </tr>\n",
       "    <tr>\n",
       "      <th>198</th>\n",
       "      <td>A</td>\n",
       "      <td>Senior</td>\n",
       "      <td>Chengmei Shen</td>\n",
       "      <td>Male</td>\n",
       "      <td>175.3</td>\n",
       "      <td>71.0</td>\n",
       "      <td>N</td>\n",
       "      <td>2</td>\n",
       "      <td>2020/1/7</td>\n",
       "      <td>0:04:58</td>\n",
       "    </tr>\n",
       "    <tr>\n",
       "      <th>199</th>\n",
       "      <td>D</td>\n",
       "      <td>Sophomore</td>\n",
       "      <td>Chunpeng Lv</td>\n",
       "      <td>Male</td>\n",
       "      <td>155.7</td>\n",
       "      <td>51.0</td>\n",
       "      <td>N</td>\n",
       "      <td>1</td>\n",
       "      <td>2019/11/6</td>\n",
       "      <td>0:05:05</td>\n",
       "    </tr>\n",
       "  </tbody>\n",
       "</table>\n",
       "<p>200 rows × 10 columns</p>\n",
       "</div>"
      ],
      "text/plain": [
       "    School      Grade            Name  ... Test_Number   Test_Date  Time_Record\n",
       "0        A   Freshman    Gaopeng Yang  ...           1   2019/10/5      0:04:34\n",
       "1        B   Freshman  Changqiang You  ...           1    2019/9/4      0:04:20\n",
       "2        A     Senior         Mei Sun  ...           2   2019/9/12      0:05:22\n",
       "3        C  Sophomore    Xiaojuan Sun  ...           2    2020/1/3      0:04:08\n",
       "4        C  Sophomore     Gaojuan You  ...           2   2019/11/6      0:05:22\n",
       "..     ...        ...             ...  ...         ...         ...          ...\n",
       "195      C     Junior    Xiaojuan Sun  ...           2  2019/10/17      0:04:31\n",
       "196      D     Senior         Li Zhao  ...           3   2019/9/22      0:04:03\n",
       "197      A     Senior  Chengqiang Chu  ...           1    2020/1/5      0:04:48\n",
       "198      A     Senior   Chengmei Shen  ...           2    2020/1/7      0:04:58\n",
       "199      D  Sophomore     Chunpeng Lv  ...           1   2019/11/6      0:05:05\n",
       "\n",
       "[200 rows x 10 columns]"
      ]
     },
     "execution_count": 401,
     "metadata": {},
     "output_type": "execute_result"
    }
   ],
   "source": [
    "import pandas as pd\n",
    "\n",
    "df_csv = pd.read_csv('data/learn_pandas.csv') \n",
    "\n",
    "df_csv"
   ]
  },
  {
   "cell_type": "code",
   "execution_count": 418,
   "metadata": {},
   "outputs": [
    {
     "data": {
      "text/plain": [
       "0            100\n",
       "1              a\n",
       "2    {'dict': 5}\n",
       "Name: my_series, dtype: object"
      ]
     },
     "execution_count": 418,
     "metadata": {},
     "output_type": "execute_result"
    }
   ],
   "source": [
    "# Series\n",
    "\n",
    "import pandas as pd\n",
    "\n",
    "data = pd.Series(\n",
    "  data = [100, 'a', { 'dict': 5 }],\n",
    "  index=pd.Index(['id1', 20, 'third'], name='idx'),\n",
    "  dtype=\"object\",\n",
    "  name=\"my_series\"\n",
    ")\n",
    "\n",
    "data.values\n",
    "\n",
    "data.index\n",
    "\n",
    "data.dtype\n",
    "\n",
    "data.name\n",
    "\n",
    "data.shape\n",
    "\n",
    "data['third']\n",
    "\n",
    "\n",
    "\n"
   ]
  },
  {
   "cell_type": "code",
   "execution_count": 469,
   "metadata": {},
   "outputs": [
    {
     "name": "stdout",
     "output_type": "stream",
     "text": [
      "       col_0 col_1  col_2\n",
      "row_0      1     a    1.2\n",
      "row_1      2     b    2.2\n",
      "row_2      3     c    3.2\n"
     ]
    },
    {
     "data": {
      "text/plain": [
       "[[1, 2, 3], ['a', 'b', 'c'], [1.2, 2.2, 3.2]]"
      ]
     },
     "execution_count": 469,
     "metadata": {},
     "output_type": "execute_result"
    }
   ],
   "source": [
    "# DataFrame\n",
    "\n",
    "data = [[1, 'a', 1.2], [2, 'b', 2.2], [3, 'c', 3.2]]\n",
    "\n",
    "df = pd.DataFrame(\n",
    "  data, \n",
    "  index=[\"row_%d\"%i for i in range(3)],\n",
    "  columns=[\"col_%d\"%i for i in range(3)]\n",
    ")\n",
    "\n",
    "print(df)\n",
    "\n",
    "[[r for r in df[t]] for t in df]\n",
    "  \n",
    "\n"
   ]
  },
  {
   "cell_type": "code",
   "execution_count": 14,
   "metadata": {},
   "outputs": [
    {
     "name": "stdout",
     "output_type": "stream",
     "text": [
      "  School      Grade            Name  Gender  Height  Weight Transfer  \\\n",
      "0      A   Freshman    Gaopeng Yang  Female   158.9    46.0        N   \n",
      "1      B   Freshman  Changqiang You    Male   166.5    70.0        N   \n",
      "2      A     Senior         Mei Sun    Male   188.9    89.0        N   \n",
      "3      C  Sophomore    Xiaojuan Sun  Female     NaN    41.0        N   \n",
      "4      C  Sophomore     Gaojuan You    Male   174.0    74.0        N   \n",
      "5      D   Freshman     Xiaoli Qian  Female   158.0    51.0        N   \n",
      "6      A   Freshman       Qiang Chu  Female   162.5    52.0        N   \n",
      "\n",
      "   Test_Number   Test_Date Time_Record  \n",
      "0            1   2019/10/5     0:04:34  \n",
      "1            1    2019/9/4     0:04:20  \n",
      "2            2   2019/9/12     0:05:22  \n",
      "3            2    2020/1/3     0:04:08  \n",
      "4            2   2019/11/6     0:05:22  \n",
      "5            1  2019/10/31     0:03:47  \n",
      "6            1  2019/12/12     0:03:53  \n"
     ]
    },
    {
     "data": {
      "text/html": [
       "<div>\n",
       "<style scoped>\n",
       "    .dataframe tbody tr th:only-of-type {\n",
       "        vertical-align: middle;\n",
       "    }\n",
       "\n",
       "    .dataframe tbody tr th {\n",
       "        vertical-align: top;\n",
       "    }\n",
       "\n",
       "    .dataframe thead th {\n",
       "        text-align: right;\n",
       "    }\n",
       "</style>\n",
       "<table border=\"1\" class=\"dataframe\">\n",
       "  <thead>\n",
       "    <tr style=\"text-align: right;\">\n",
       "      <th></th>\n",
       "      <th>School</th>\n",
       "    </tr>\n",
       "  </thead>\n",
       "  <tbody>\n",
       "    <tr>\n",
       "      <th>0</th>\n",
       "      <td>A</td>\n",
       "    </tr>\n",
       "    <tr>\n",
       "      <th>1</th>\n",
       "      <td>B</td>\n",
       "    </tr>\n",
       "    <tr>\n",
       "      <th>2</th>\n",
       "      <td>A</td>\n",
       "    </tr>\n",
       "    <tr>\n",
       "      <th>3</th>\n",
       "      <td>C</td>\n",
       "    </tr>\n",
       "    <tr>\n",
       "      <th>4</th>\n",
       "      <td>C</td>\n",
       "    </tr>\n",
       "    <tr>\n",
       "      <th>5</th>\n",
       "      <td>D</td>\n",
       "    </tr>\n",
       "    <tr>\n",
       "      <th>6</th>\n",
       "      <td>A</td>\n",
       "    </tr>\n",
       "  </tbody>\n",
       "</table>\n",
       "</div>"
      ],
      "text/plain": [
       "  School\n",
       "0      A\n",
       "1      B\n",
       "2      A\n",
       "3      C\n",
       "4      C\n",
       "5      D\n",
       "6      A"
      ]
     },
     "execution_count": 14,
     "metadata": {},
     "output_type": "execute_result"
    }
   ],
   "source": [
    "import pandas as pd\n",
    "df = pd.read_csv('data/learn_pandas.csv')\n",
    "\n",
    "df = df.head(7)\n",
    "\n",
    "print(df)\n",
    "\n",
    "df[['School']]\n",
    "\n",
    "\n",
    "\n"
   ]
  },
  {
   "cell_type": "code",
   "execution_count": 607,
   "metadata": {},
   "outputs": [
    {
     "name": "stdout",
     "output_type": "stream",
     "text": [
      "Height    172.075\n",
      "Weight     64.000\n",
      "dtype: float64\n"
     ]
    }
   ],
   "source": [
    "df = pd.read_csv('data/learn_pandas.csv')\n",
    "df_demo = df[['Grade', 'Name', 'Height',\n",
    "              'Weight']].set_index(['Grade','Name']).head()\n",
    "\n",
    "df_demo.sort_values('Height', ascending=True).head()\n",
    "\n",
    "\n",
    "\n",
    "df_demo = df[['Height', 'Weight']].head()\n",
    "\n",
    "\n",
    "t = df_demo.apply(lambda x: x.mean())\n",
    "\n",
    "print(t)\n",
    "\n",
    "def my_mean (x):\n",
    "  return x.mean()\n",
    "\n",
    "\n"
   ]
  },
  {
   "cell_type": "code",
   "execution_count": 621,
   "metadata": {},
   "outputs": [
    {
     "data": {
      "text/plain": [
       "0     1.0\n",
       "1     4.0\n",
       "2    10.0\n",
       "3    20.0\n",
       "dtype: float64"
      ]
     },
     "execution_count": 621,
     "metadata": {},
     "output_type": "execute_result"
    }
   ],
   "source": [
    "# 滑窗对象\n",
    "\n",
    "s = pd.Series([1,2,3,4,5])\n",
    "\n",
    "# roller = s.rolling(window = 3)\n",
    "\n",
    "roller.sum()\n",
    "\n",
    "s = pd.Series([1, 3, 6, 10])\n",
    "\n",
    "s.expanding().sum()\n",
    "\n",
    "# [1, 4, 10, 20]\n",
    "\n"
   ]
  },
  {
   "cell_type": "code",
   "execution_count": 653,
   "metadata": {},
   "outputs": [
    {
     "data": {
      "text/html": [
       "<div>\n",
       "<style scoped>\n",
       "    .dataframe tbody tr th:only-of-type {\n",
       "        vertical-align: middle;\n",
       "    }\n",
       "\n",
       "    .dataframe tbody tr th {\n",
       "        vertical-align: top;\n",
       "    }\n",
       "\n",
       "    .dataframe thead th {\n",
       "        text-align: right;\n",
       "    }\n",
       "</style>\n",
       "<table border=\"1\" class=\"dataframe\">\n",
       "  <thead>\n",
       "    <tr style=\"text-align: right;\">\n",
       "      <th></th>\n",
       "      <th>my_index</th>\n",
       "      <th>A</th>\n",
       "    </tr>\n",
       "  </thead>\n",
       "  <tbody>\n",
       "    <tr>\n",
       "      <th>0</th>\n",
       "      <td>a</td>\n",
       "      <td>1</td>\n",
       "    </tr>\n",
       "    <tr>\n",
       "      <th>1</th>\n",
       "      <td>b</td>\n",
       "      <td>2</td>\n",
       "    </tr>\n",
       "  </tbody>\n",
       "</table>\n",
       "</div>"
      ],
      "text/plain": [
       "  my_index  A\n",
       "0        a  1\n",
       "1        b  2"
      ]
     },
     "execution_count": 653,
     "metadata": {},
     "output_type": "execute_result"
    }
   ],
   "source": [
    "\n",
    "index = pd.Series(['a', 'b'], name='my_index')\n",
    "\n",
    "my_table = pd.DataFrame({\"A\":[1,2]}, index=index)\n",
    "my_table.to_csv(\"my_csv.csv\")\n",
    "\n",
    "pf = pd.read_csv(\"my_csv.csv\")\n",
    "\n",
    "pf\n",
    "\n",
    "\n"
   ]
  },
  {
   "cell_type": "code",
   "execution_count": null,
   "metadata": {},
   "outputs": [],
   "source": []
  }
 ],
 "metadata": {
  "kernelspec": {
   "display_name": "base",
   "language": "python",
   "name": "python3"
  },
  "language_info": {
   "codemirror_mode": {
    "name": "ipython",
    "version": 3
   },
   "file_extension": ".py",
   "mimetype": "text/x-python",
   "name": "python",
   "nbconvert_exporter": "python",
   "pygments_lexer": "ipython3",
   "version": "3.11.5"
  }
 },
 "nbformat": 4,
 "nbformat_minor": 2
}
