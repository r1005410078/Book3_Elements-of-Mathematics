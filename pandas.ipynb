{
 "cells": [
  {
   "cell_type": "markdown",
   "metadata": {},
   "source": [
    "## 1 使用List构造Series\n",
    "\n",
    "## 2 使用Dict构造Series\n",
    "\n",
    "## 3 Series转换成List\n",
    "\n",
    "## 4 将Series转换成DataFrame\n",
    "\n",
    "## 5 借助 Numpy 创建Series\n",
    "\n",
    "## 6 转换Series的数据类型\n",
    "\n",
    "## 7 给Series添加新的元素\n",
    "\n",
    "## 8 用reset index将Series转换成df\n",
    "\n",
    "## 9 使用字典创建DataFrame\n",
    "\n",
    "## 10 给DataFrame设置索引列\n",
    "\n",
    "## 11 生成一个月份所有日期\n",
    "\n",
    "## 12 生成一年的所有周一日期\n",
    "\n",
    "## 13 生成一天的所有小时\n",
    "\n",
    "## 14 用日期生成DataFrame\n",
    "\n",
    "## 15 使用日期和随机数生成DataFrame\n",
    "\n",
    "## 16 打印DataFrame的前后数据行\n",
    "\n",
    "## 17 df的信息和基本数据统计\n",
    "\n",
    "## 18 统计数据列的值出现次数\n",
    "\n",
    "## 19 df前N行存入CSV文件\n",
    "\n",
    "## 20 加载CSV文件到df\n",
    "\n",
    "## 21 加载股票数据CSV文件\n",
    "\n",
    "## 22 股票的信息和基本数据统计\n",
    "\n",
    "## 23 更改索引列为普通数据列\n",
    "\n",
    "## 24 给股票数据新增年份和月份\n",
    "\n",
    "## 25 计算股票每年份的平均收盘价\n",
    "\n",
    "## 26 股票数据找出收盘价最低行\n",
    "\n",
    "## 27 筛选出部分数据列\n",
    "\n",
    "## 28 设置日期列为索引列\n",
    "\n",
    "## 29 删除不需要的数据列\n",
    "\n",
    "## 30 对列进行重命名\n",
    "\n",
    "## 31 加载电信客户流失数据集\n",
    "\n",
    "## 32 计算每一数据列的缺失值\n",
    "\n",
    "## 33 正确设置数据列的类型\n",
    "\n",
    "## 34 将类别字段转换成cat类型\n",
    "\n",
    "## 35 对cat类型字段数据统计\n",
    "\n",
    "## 36 churn字段的数据分布\n",
    "\n",
    "## 37 多维度查看月费字段统计\n",
    "\n",
    "## 38 Churn字段的数据映射\n",
    "\n",
    "## 39 查看字段相关性矩阵\n",
    "\n",
    "## 40 从数据集中采样数据行\n",
    "\n",
    "## 41 合并两个Series到DF\n",
    "\n",
    "## 42 多条件筛选DataFrame\n",
    "\n",
    "## 43 根据现有列计算新列\n",
    "\n",
    "## 44 根据现有列截断列\n",
    "\n",
    "## 45 数据列最大和最小的5个数\n",
    "\n",
    "## 46 计算数字的累积加和值\n",
    "\n",
    "## 47 计算一列数字的中位数\n",
    "\n",
    "## 48 使用query筛选数据\n",
    "\n",
    "## 49 将df的前几行生成一个字典\n",
    "\n",
    "## 50 将df的前几行生成html\n",
    "\n",
    "## 51 构造随机数df并筛选\n",
    "\n",
    "## 52 使用两列进行组合筛选\n",
    "\n",
    "## 53 for循环遍历dataframe\n",
    "\n",
    "## 54 精确设置df的单元格的值\n",
    "\n",
    "## 55 移除包含空值的行\n",
    "\n",
    "## 56 重新设置索引列\n",
    "\n",
    "## 57 统计数据列的空值个数\n",
    "\n",
    "## 58 使用数字填充缺失值\n",
    "\n",
    "## 59 修改df列的顺序\n",
    "\n",
    "## 60 删除df的一列或多列\n",
    "\n",
    "## 61 二手车-数据介绍和加载\n",
    "\n",
    "## 62 二手车-输出df标题名称列表\n",
    "\n",
    "## 63 两只股票-读取股票数据CSV\n",
    "\n",
    "## 64 两只股票-批量给列名加前缀\n",
    "\n",
    "## 65 两只股票-按日期关联两个df\n",
    "\n",
    "## 66 两只股票-筛选所需要的列\n",
    "\n",
    "## 67 两只股票-计算每只股票当日涨跌幅\n",
    "\n",
    "## 68 两只股票-计算同涨同跌的信号\n",
    "\n",
    "## 69 两只股票-计算同时涨跌的比例\n"
   ]
  },
  {
   "cell_type": "code",
   "execution_count": 9,
   "metadata": {},
   "outputs": [
    {
     "data": {
      "text/plain": [
       "0    [1, 2]\n",
       "1    [3, 4]\n",
       "dtype: object"
      ]
     },
     "execution_count": 9,
     "metadata": {},
     "output_type": "execute_result"
    }
   ],
   "source": [
    "import pandas as pd\n",
    "\n",
    "# 使用List构造Series\n",
    "\n",
    "pd.Series([1, 2, 3, 4, 5], list('abcde'), 'float', \"test\")\n",
    "\n",
    "f = pd.Series([[1, 2], [3, 4]])\n"
   ]
  },
  {
   "cell_type": "code",
   "execution_count": 27,
   "metadata": {},
   "outputs": [
    {
     "data": {
      "text/plain": [
       "1"
      ]
     },
     "execution_count": 27,
     "metadata": {},
     "output_type": "execute_result"
    }
   ],
   "source": [
    "# 使用Dict构造Series\n",
    "\n",
    "info = {\n",
    "  'name':'linger',\n",
    "  'age': 111,\n",
    "  'sex': 0,\n",
    "  'height': 180,\n",
    "}\n",
    "\n",
    "user = pd.Series(info)\n",
    "\n",
    "f = pd.Series([[1, 2], [3, 4]])\n",
    "f.ndim\n",
    "\n"
   ]
  },
  {
   "cell_type": "code",
   "execution_count": 29,
   "metadata": {},
   "outputs": [
    {
     "data": {
      "text/plain": [
       "[1, 2, 3, 4]"
      ]
     },
     "execution_count": 29,
     "metadata": {},
     "output_type": "execute_result"
    }
   ],
   "source": [
    "import pandas as pd\n",
    "\n",
    "data = pd.Series([1, 2, 3, 4])\n",
    "\n",
    "data.to_list()\n"
   ]
  },
  {
   "cell_type": "code",
   "execution_count": 83,
   "metadata": {},
   "outputs": [
    {
     "name": "stdout",
     "output_type": "stream",
     "text": [
      "<class 'pandas.core.series.Series'>\n",
      "idx\n",
      "a    1\n",
      "b    2\n",
      "c    3\n",
      "d    4\n",
      "Name: foo, dtype: int64\n"
     ]
    }
   ],
   "source": [
    "import pandas as pd\n",
    "import numpy as py\n",
    "\n",
    "\n",
    "data = pd.Series([1, 2, 3, 4], name='foo',\n",
    "   index=pd.Index(['a', 'b', 'c', 'd'], name='idx'))\n",
    "\n",
    "\n",
    "data.reset_index()\n",
    "  \n",
    "\n",
    "\n",
    "print(type(data))\n",
    "\n",
    "print(data)"
   ]
  },
  {
   "cell_type": "code",
   "execution_count": 105,
   "metadata": {},
   "outputs": [
    {
     "data": {
      "text/plain": [
       "pandas.core.frame.DataFrame"
      ]
     },
     "execution_count": 105,
     "metadata": {},
     "output_type": "execute_result"
    }
   ],
   "source": [
    "arrays = [np.array(['bar', 'bar', 'baz', 'baz']),\n",
    "          np.array(['one', 'two', 'one', 'two'])]\n",
    "s2 = pd.Series(\n",
    "    range(4), name='foo',\n",
    "    index=pd.MultiIndex.from_arrays(arrays,\n",
    "                                    names=['a', 'b']))\n",
    "\n",
    "s2 = s2.reset_index(level='a')\n",
    "\n",
    "type(s2)                   "
   ]
  },
  {
   "cell_type": "code",
   "execution_count": 115,
   "metadata": {},
   "outputs": [
    {
     "data": {
      "text/plain": [
       "5     2\n",
       "7     4\n",
       "9     6\n",
       "11    8\n",
       "dtype: int32"
      ]
     },
     "execution_count": 115,
     "metadata": {},
     "output_type": "execute_result"
    }
   ],
   "source": [
    "# 借助 Numpy 创建Series\n",
    "\n",
    "import numpy as np\n",
    "import pandas as pd\n",
    "\n",
    "\n",
    "pd.Series(np.arange(2, 10, 2), index = np.arange(5, 13, 2))\n",
    "\n"
   ]
  },
  {
   "cell_type": "code",
   "execution_count": 135,
   "metadata": {},
   "outputs": [
    {
     "data": {
      "text/plain": [
       "0    2\n",
       "1    4\n",
       "2    6\n",
       "3    8\n",
       "dtype: int32"
      ]
     },
     "execution_count": 135,
     "metadata": {},
     "output_type": "execute_result"
    }
   ],
   "source": [
    "# 转换Series的数据类型\n",
    "\n",
    "data = pd.Series(np.arange(2, 10, 2, dtype='float'))\n",
    "\n",
    "data.astype(int)\n"
   ]
  },
  {
   "cell_type": "code",
   "execution_count": 137,
   "metadata": {},
   "outputs": [
    {
     "name": "stderr",
     "output_type": "stream",
     "text": [
      "C:\\Users\\rongts\\AppData\\Local\\Temp\\ipykernel_11208\\4008632336.py:5: FutureWarning: The series.append method is deprecated and will be removed from pandas in a future version. Use pandas.concat instead.\n",
      "  data.append(pd.Series(np.arange(11)))\n"
     ]
    },
    {
     "data": {
      "text/html": [
       "<div>\n",
       "<style scoped>\n",
       "    .dataframe tbody tr th:only-of-type {\n",
       "        vertical-align: middle;\n",
       "    }\n",
       "\n",
       "    .dataframe tbody tr th {\n",
       "        vertical-align: top;\n",
       "    }\n",
       "\n",
       "    .dataframe thead th {\n",
       "        text-align: right;\n",
       "    }\n",
       "</style>\n",
       "<table border=\"1\" class=\"dataframe\">\n",
       "  <thead>\n",
       "    <tr style=\"text-align: right;\">\n",
       "      <th></th>\n",
       "      <th>index</th>\n",
       "      <th>0</th>\n",
       "    </tr>\n",
       "  </thead>\n",
       "  <tbody>\n",
       "    <tr>\n",
       "      <th>0</th>\n",
       "      <td>0</td>\n",
       "      <td>2</td>\n",
       "    </tr>\n",
       "    <tr>\n",
       "      <th>1</th>\n",
       "      <td>1</td>\n",
       "      <td>4</td>\n",
       "    </tr>\n",
       "    <tr>\n",
       "      <th>2</th>\n",
       "      <td>2</td>\n",
       "      <td>6</td>\n",
       "    </tr>\n",
       "    <tr>\n",
       "      <th>3</th>\n",
       "      <td>3</td>\n",
       "      <td>8</td>\n",
       "    </tr>\n",
       "  </tbody>\n",
       "</table>\n",
       "</div>"
      ],
      "text/plain": [
       "   index  0\n",
       "0      0  2\n",
       "1      1  4\n",
       "2      2  6\n",
       "3      3  8"
      ]
     },
     "execution_count": 137,
     "metadata": {},
     "output_type": "execute_result"
    }
   ],
   "source": [
    "\n",
    "## 7 给Series添加新的元素\n",
    "\n",
    "data = pd.Series(np.arange(2, 10, 2))\n",
    "\n",
    "data.append(pd.Series(np.arange(11)))\n",
    "\n",
    "## 8 用 reset index将Series转换成df\n",
    "\n",
    "data.reset_index()\n",
    "\n"
   ]
  },
  {
   "cell_type": "code",
   "execution_count": null,
   "metadata": {},
   "outputs": [],
   "source": [
    "## 9 使用字典创建DataFrame\n",
    "\n",
    "## 10 给DataFrame设置索引列\n",
    "\n",
    "## 11 生成一个月份所有日期\n",
    "\n",
    "## 12 生成一年的所有周一日期\n",
    "\n",
    "## 13 生成一天的所有小时\n",
    "\n",
    "## 14 用日期生成DataFrame\n",
    "\n",
    "## 15 使用日期和随机数生成DataFrame\n",
    "\n",
    "\n"
   ]
  }
 ],
 "metadata": {
  "kernelspec": {
   "display_name": "base",
   "language": "python",
   "name": "python3"
  },
  "language_info": {
   "codemirror_mode": {
    "name": "ipython",
    "version": 3
   },
   "file_extension": ".py",
   "mimetype": "text/x-python",
   "name": "python",
   "nbconvert_exporter": "python",
   "pygments_lexer": "ipython3",
   "version": "3.10.9"
  }
 },
 "nbformat": 4,
 "nbformat_minor": 2
}
